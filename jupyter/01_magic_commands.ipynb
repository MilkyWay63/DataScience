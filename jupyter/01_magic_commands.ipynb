{
 "cells": [
  {
   "cell_type": "code",
   "execution_count": 1,
   "id": "6f1ed68d",
   "metadata": {},
   "outputs": [],
   "source": [
    "import numpy as np\n",
    "import pandas as pd\n",
    "import matplotlib.pyplot as plt"
   ]
  },
  {
   "cell_type": "code",
   "execution_count": 2,
   "id": "55ccdd6d",
   "metadata": {},
   "outputs": [],
   "source": [
    "df = pd.read_csv('Environmental_Data_Deep_Moor_2013.csv')"
   ]
  },
  {
   "cell_type": "code",
   "execution_count": 9,
   "id": "bab37fe5",
   "metadata": {},
   "outputs": [],
   "source": [
    "#  rows for the first week of January\n",
    "df_week1 = df[df['date'].between('2013_01_01','2013_01_07')]"
   ]
  },
  {
   "cell_type": "code",
   "execution_count": 7,
   "id": "e6d5741c",
   "metadata": {},
   "outputs": [],
   "source": [
    "df_week2 = df[df['date'].between('2013_01_08','2013_01_15')]"
   ]
  },
  {
   "cell_type": "code",
   "execution_count": 10,
   "id": "a4c8bb68",
   "metadata": {},
   "outputs": [
    {
     "data": {
      "text/plain": [
       "[<matplotlib.lines.Line2D at 0x17eb6ed92b0>]"
      ]
     },
     "execution_count": 10,
     "metadata": {},
     "output_type": "execute_result"
    },
    {
     "data": {
      "image/png": "[encoded data removed]",
      "text/plain": [
       "<Figure size 432x288 with 1 Axes>"
      ]
     },
     "metadata": {
      "needs_background": "light"
     },
     "output_type": "display_data"
    }
   ],
   "source": [
    "plt.plot(df_week1['Air_Temp'])"
   ]
  },
  {
   "cell_type": "code",
   "execution_count": 8,
   "id": "bfcfd987",
   "metadata": {},
   "outputs": [
    {
     "data": {
      "text/plain": [
       "[<matplotlib.lines.Line2D at 0x17eb6e64f70>]"
      ]
     },
     "execution_count": 8,
     "metadata": {},
     "output_type": "execute_result"
    },
    {
     "data": {
      "image/png": "[encoded data removed]",
      "text/plain": [
       "<Figure size 432x288 with 1 Axes>"
      ]
     },
     "metadata": {
      "needs_background": "light"
     },
     "output_type": "display_data"
    }
   ],
   "source": [
    "plt.plot(df_week2['Air_Temp'])"
   ]
  },
  {
   "cell_type": "code",
   "execution_count": 5,
   "id": "eb9f5d17",
   "metadata": {},
   "outputs": [
    {
     "data": {
      "text/html": [
       "<div>\n",
       "<style scoped>\n",
       "    .dataframe tbody tr th:only-of-type {\n",
       "        vertical-align: middle;\n",
       "    }\n",
       "\n",
       "    .dataframe tbody tr th {\n",
       "        vertical-align: top;\n",
       "    }\n",
       "\n",
       "    .dataframe thead th {\n",
       "        text-align: right;\n",
       "    }\n",
       "</style>\n",
       "<table border=\"1\" class=\"dataframe\">\n",
       "  <thead>\n",
       "    <tr style=\"text-align: right;\">\n",
       "      <th></th>\n",
       "      <th>date</th>\n",
       "      <th>time</th>\n",
       "      <th>Air_Temp</th>\n",
       "      <th>Barometric_Press</th>\n",
       "      <th>Dew_Point</th>\n",
       "      <th>Relative_Humidity</th>\n",
       "      <th>Wind_Dir</th>\n",
       "      <th>Wind_Gust</th>\n",
       "      <th>Wind_Speed</th>\n",
       "    </tr>\n",
       "  </thead>\n",
       "  <tbody>\n",
       "    <tr>\n",
       "      <th>0</th>\n",
       "      <td>2013_01_01</td>\n",
       "      <td>0:03:23</td>\n",
       "      <td>30.8</td>\n",
       "      <td>28.3</td>\n",
       "      <td>21.3</td>\n",
       "      <td>67.4</td>\n",
       "      <td>98.6</td>\n",
       "      <td>4</td>\n",
       "      <td>0.0</td>\n",
       "    </tr>\n",
       "    <tr>\n",
       "      <th>1</th>\n",
       "      <td>2013_01_01</td>\n",
       "      <td>6:29:08</td>\n",
       "      <td>28.0</td>\n",
       "      <td>28.4</td>\n",
       "      <td>24.2</td>\n",
       "      <td>85.2</td>\n",
       "      <td>61.8</td>\n",
       "      <td>2</td>\n",
       "      <td>0.0</td>\n",
       "    </tr>\n",
       "    <tr>\n",
       "      <th>2</th>\n",
       "      <td>2013_01_01</td>\n",
       "      <td>6:35:16</td>\n",
       "      <td>28.1</td>\n",
       "      <td>28.4</td>\n",
       "      <td>24.6</td>\n",
       "      <td>86.6</td>\n",
       "      <td>52.2</td>\n",
       "      <td>1</td>\n",
       "      <td>0.0</td>\n",
       "    </tr>\n",
       "    <tr>\n",
       "      <th>3</th>\n",
       "      <td>2013_01_01</td>\n",
       "      <td>6:41:25</td>\n",
       "      <td>28.1</td>\n",
       "      <td>28.4</td>\n",
       "      <td>24.6</td>\n",
       "      <td>86.4</td>\n",
       "      <td>62.8</td>\n",
       "      <td>2</td>\n",
       "      <td>0.0</td>\n",
       "    </tr>\n",
       "    <tr>\n",
       "      <th>4</th>\n",
       "      <td>2013_01_01</td>\n",
       "      <td>6:47:33</td>\n",
       "      <td>28.0</td>\n",
       "      <td>28.4</td>\n",
       "      <td>24.3</td>\n",
       "      <td>85.6</td>\n",
       "      <td>45.6</td>\n",
       "      <td>2</td>\n",
       "      <td>0.2</td>\n",
       "    </tr>\n",
       "  </tbody>\n",
       "</table>\n",
       "</div>"
      ],
      "text/plain": [
       "         date     time  Air_Temp  Barometric_Press  Dew_Point  \\\n",
       "0  2013_01_01  0:03:23      30.8              28.3       21.3   \n",
       "1  2013_01_01  6:29:08      28.0              28.4       24.2   \n",
       "2  2013_01_01  6:35:16      28.1              28.4       24.6   \n",
       "3  2013_01_01  6:41:25      28.1              28.4       24.6   \n",
       "4  2013_01_01  6:47:33      28.0              28.4       24.3   \n",
       "\n",
       "   Relative_Humidity  Wind_Dir  Wind_Gust  Wind_Speed  \n",
       "0               67.4      98.6          4         0.0  \n",
       "1               85.2      61.8          2         0.0  \n",
       "2               86.6      52.2          1         0.0  \n",
       "3               86.4      62.8          2         0.0  \n",
       "4               85.6      45.6          2         0.2  "
      ]
     },
     "execution_count": 5,
     "metadata": {},
     "output_type": "execute_result"
    }
   ],
   "source": [
    "df.head()"
   ]
  },
  {
   "cell_type": "code",
   "execution_count": 12,
   "id": "ebba7663",
   "metadata": {},
   "outputs": [
    {
     "name": "stdout",
     "output_type": "stream",
     "text": [
      " Volume in drive C is OS\n",
      " Volume Serial Number is 16B2-8A00\n",
      "\n",
      " Directory of C:\\Users\\tomas.ivanaitis\\Documents\\Jupyter\n",
      "\n",
      "05/17/2022  09:06 PM    <DIR>          .\n",
      "05/17/2022  09:06 PM    <DIR>          ..\n",
      "05/17/2022  08:50 PM    <DIR>          .ipynb_checkpoints\n",
      "05/17/2022  04:47 PM         3,614,384 Environmental_Data_Deep_Moor_2013.csv\n",
      "05/17/2022  04:47 PM         5,525,959 Environmental_Data_Deep_Moor_2014.csv\n",
      "05/17/2022  04:47 PM         3,731,242 Environmental_Data_Deep_Moor_2015.csv\n",
      "05/17/2022  04:47 PM               135 helper.py\n",
      "05/17/2022  09:02 PM            41,789 Line graph.ipynb\n",
      "05/17/2022  04:47 PM                86 plot_numbers.py\n",
      "               6 File(s)     12,913,595 bytes\n",
      "               3 Dir(s)  355,892,895,744 bytes free\n"
     ]
    }
   ],
   "source": [
    "%ls"
   ]
  },
  {
   "cell_type": "code",
   "execution_count": 15,
   "id": "14d59c63",
   "metadata": {},
   "outputs": [],
   "source": [
    "# %load helper.py\n",
    "import pandas as pd\n",
    "df = pd.read_csv(\"Environmental_Data_Deep_Moor_2015.csv\")\n",
    "\n",
    "def get_day(d):\n",
    "  return df[df['date']==d]\n"
   ]
  },
  {
   "cell_type": "code",
   "execution_count": 16,
   "id": "6614e5af",
   "metadata": {},
   "outputs": [
    {
     "data": {
      "text/html": [
       "<div>\n",
       "<style scoped>\n",
       "    .dataframe tbody tr th:only-of-type {\n",
       "        vertical-align: middle;\n",
       "    }\n",
       "\n",
       "    .dataframe tbody tr th {\n",
       "        vertical-align: top;\n",
       "    }\n",
       "\n",
       "    .dataframe thead th {\n",
       "        text-align: right;\n",
       "    }\n",
       "</style>\n",
       "<table border=\"1\" class=\"dataframe\">\n",
       "  <thead>\n",
       "    <tr style=\"text-align: right;\">\n",
       "      <th></th>\n",
       "      <th>date</th>\n",
       "      <th>time</th>\n",
       "      <th>Air_Temp</th>\n",
       "      <th>Barometric_Press</th>\n",
       "      <th>Dew_Point</th>\n",
       "      <th>Relative_Humidity</th>\n",
       "      <th>Wind_Dir</th>\n",
       "      <th>Wind_Gust</th>\n",
       "      <th>Wind_Speed</th>\n",
       "    </tr>\n",
       "  </thead>\n",
       "  <tbody>\n",
       "    <tr>\n",
       "      <th>0</th>\n",
       "      <td>2015_01_01</td>\n",
       "      <td>0:02:43</td>\n",
       "      <td>19.50</td>\n",
       "      <td>30.62</td>\n",
       "      <td>14.78</td>\n",
       "      <td>81.6</td>\n",
       "      <td>159.78</td>\n",
       "      <td>14</td>\n",
       "      <td>9.2</td>\n",
       "    </tr>\n",
       "    <tr>\n",
       "      <th>1</th>\n",
       "      <td>2015_01_01</td>\n",
       "      <td>0:02:52</td>\n",
       "      <td>19.50</td>\n",
       "      <td>30.62</td>\n",
       "      <td>14.78</td>\n",
       "      <td>81.6</td>\n",
       "      <td>159.78</td>\n",
       "      <td>14</td>\n",
       "      <td>9.2</td>\n",
       "    </tr>\n",
       "    <tr>\n",
       "      <th>2</th>\n",
       "      <td>2015_01_01</td>\n",
       "      <td>0:07:43</td>\n",
       "      <td>19.50</td>\n",
       "      <td>30.61</td>\n",
       "      <td>14.66</td>\n",
       "      <td>81.2</td>\n",
       "      <td>155.63</td>\n",
       "      <td>11</td>\n",
       "      <td>8.6</td>\n",
       "    </tr>\n",
       "    <tr>\n",
       "      <th>3</th>\n",
       "      <td>2015_01_01</td>\n",
       "      <td>0:07:52</td>\n",
       "      <td>19.50</td>\n",
       "      <td>30.61</td>\n",
       "      <td>14.66</td>\n",
       "      <td>81.2</td>\n",
       "      <td>155.63</td>\n",
       "      <td>11</td>\n",
       "      <td>8.6</td>\n",
       "    </tr>\n",
       "    <tr>\n",
       "      <th>4</th>\n",
       "      <td>2015_01_01</td>\n",
       "      <td>0:12:43</td>\n",
       "      <td>19.68</td>\n",
       "      <td>30.61</td>\n",
       "      <td>15.20</td>\n",
       "      <td>82.4</td>\n",
       "      <td>166.59</td>\n",
       "      <td>12</td>\n",
       "      <td>9.4</td>\n",
       "    </tr>\n",
       "    <tr>\n",
       "      <th>...</th>\n",
       "      <td>...</td>\n",
       "      <td>...</td>\n",
       "      <td>...</td>\n",
       "      <td>...</td>\n",
       "      <td>...</td>\n",
       "      <td>...</td>\n",
       "      <td>...</td>\n",
       "      <td>...</td>\n",
       "      <td>...</td>\n",
       "    </tr>\n",
       "    <tr>\n",
       "      <th>571</th>\n",
       "      <td>2015_01_01</td>\n",
       "      <td>23:48:53</td>\n",
       "      <td>23.42</td>\n",
       "      <td>30.44</td>\n",
       "      <td>20.06</td>\n",
       "      <td>86.8</td>\n",
       "      <td>157.00</td>\n",
       "      <td>13</td>\n",
       "      <td>9.8</td>\n",
       "    </tr>\n",
       "    <tr>\n",
       "      <th>572</th>\n",
       "      <td>2015_01_01</td>\n",
       "      <td>23:53:03</td>\n",
       "      <td>23.40</td>\n",
       "      <td>30.43</td>\n",
       "      <td>19.98</td>\n",
       "      <td>86.6</td>\n",
       "      <td>149.20</td>\n",
       "      <td>13</td>\n",
       "      <td>9.2</td>\n",
       "    </tr>\n",
       "    <tr>\n",
       "      <th>573</th>\n",
       "      <td>2015_01_01</td>\n",
       "      <td>23:53:53</td>\n",
       "      <td>23.40</td>\n",
       "      <td>30.43</td>\n",
       "      <td>20.04</td>\n",
       "      <td>86.8</td>\n",
       "      <td>151.20</td>\n",
       "      <td>13</td>\n",
       "      <td>8.8</td>\n",
       "    </tr>\n",
       "    <tr>\n",
       "      <th>574</th>\n",
       "      <td>2015_01_01</td>\n",
       "      <td>23:58:03</td>\n",
       "      <td>23.42</td>\n",
       "      <td>30.43</td>\n",
       "      <td>20.06</td>\n",
       "      <td>86.8</td>\n",
       "      <td>155.20</td>\n",
       "      <td>13</td>\n",
       "      <td>8.8</td>\n",
       "    </tr>\n",
       "    <tr>\n",
       "      <th>575</th>\n",
       "      <td>2015_01_01</td>\n",
       "      <td>23:58:53</td>\n",
       "      <td>23.42</td>\n",
       "      <td>30.43</td>\n",
       "      <td>20.00</td>\n",
       "      <td>86.6</td>\n",
       "      <td>155.00</td>\n",
       "      <td>13</td>\n",
       "      <td>9.2</td>\n",
       "    </tr>\n",
       "  </tbody>\n",
       "</table>\n",
       "<p>576 rows × 9 columns</p>\n",
       "</div>"
      ],
      "text/plain": [
       "           date      time  Air_Temp  Barometric_Press  Dew_Point  \\\n",
       "0    2015_01_01   0:02:43     19.50             30.62      14.78   \n",
       "1    2015_01_01   0:02:52     19.50             30.62      14.78   \n",
       "2    2015_01_01   0:07:43     19.50             30.61      14.66   \n",
       "3    2015_01_01   0:07:52     19.50             30.61      14.66   \n",
       "4    2015_01_01   0:12:43     19.68             30.61      15.20   \n",
       "..          ...       ...       ...               ...        ...   \n",
       "571  2015_01_01  23:48:53     23.42             30.44      20.06   \n",
       "572  2015_01_01  23:53:03     23.40             30.43      19.98   \n",
       "573  2015_01_01  23:53:53     23.40             30.43      20.04   \n",
       "574  2015_01_01  23:58:03     23.42             30.43      20.06   \n",
       "575  2015_01_01  23:58:53     23.42             30.43      20.00   \n",
       "\n",
       "     Relative_Humidity  Wind_Dir  Wind_Gust  Wind_Speed  \n",
       "0                 81.6    159.78         14         9.2  \n",
       "1                 81.6    159.78         14         9.2  \n",
       "2                 81.2    155.63         11         8.6  \n",
       "3                 81.2    155.63         11         8.6  \n",
       "4                 82.4    166.59         12         9.4  \n",
       "..                 ...       ...        ...         ...  \n",
       "571               86.8    157.00         13         9.8  \n",
       "572               86.6    149.20         13         9.2  \n",
       "573               86.8    151.20         13         8.8  \n",
       "574               86.8    155.20         13         8.8  \n",
       "575               86.6    155.00         13         9.2  \n",
       "\n",
       "[576 rows x 9 columns]"
      ]
     },
     "execution_count": 16,
     "metadata": {},
     "output_type": "execute_result"
    }
   ],
   "source": [
    "get_day('2015_01_01')"
   ]
  },
  {
   "cell_type": "code",
   "execution_count": 21,
   "id": "76c10784",
   "metadata": {},
   "outputs": [
    {
     "name": "stdout",
     "output_type": "stream",
     "text": [
      "import matplotlib.pyplot as plt\n",
      "import sys\n",
      "\n",
      "y=list(map(int,sys.argv[1:]))\n",
      "plt.plot(y)\n"
     ]
    }
   ],
   "source": [
    "!type plot_numbers.py"
   ]
  },
  {
   "cell_type": "code",
   "execution_count": 23,
   "id": "46bf0b57",
   "metadata": {},
   "outputs": [
    {
     "data": {
      "image/png": "[encoded data removed]",
      "text/plain": [
       "<Figure size 432x288 with 1 Axes>"
      ]
     },
     "metadata": {
      "needs_background": "light"
     },
     "output_type": "display_data"
    }
   ],
   "source": [
    "%run plot_numbers.py 1 3 4 6 7 9 5 2"
   ]
  },
  {
   "cell_type": "code",
   "execution_count": 24,
   "id": "6dad32b4",
   "metadata": {},
   "outputs": [
    {
     "name": "stdout",
     "output_type": "stream",
     "text": [
      "CPU times: total: 15.6 ms\n",
      "Wall time: 6.42 ms\n"
     ]
    },
    {
     "data": {
      "text/plain": [
       "43.1369525412414"
      ]
     },
     "execution_count": 24,
     "metadata": {},
     "output_type": "execute_result"
    }
   ],
   "source": [
    "%time (sum(x for x in df['Air_Temp']))/len(df['Air_Temp'])"
   ]
  },
  {
   "cell_type": "code",
   "execution_count": 25,
   "id": "3d484100",
   "metadata": {},
   "outputs": [
    {
     "name": "stdout",
     "output_type": "stream",
     "text": [
      "CPU times: total: 0 ns\n",
      "Wall time: 630 µs\n"
     ]
    },
    {
     "data": {
      "text/plain": [
       "43.1369525412414"
      ]
     },
     "execution_count": 25,
     "metadata": {},
     "output_type": "execute_result"
    }
   ],
   "source": [
    "%time df['Air_Temp'].mean()"
   ]
  },
  {
   "cell_type": "code",
   "execution_count": 26,
   "id": "e6865522",
   "metadata": {},
   "outputs": [
    {
     "name": "stdout",
     "output_type": "stream",
     "text": [
      "117 µs ± 23.2 µs per loop (mean ± std. dev. of 7 runs, 10,000 loops each)\n"
     ]
    }
   ],
   "source": [
    "%timeit df['Air_Temp'].mean()"
   ]
  },
  {
   "cell_type": "code",
   "execution_count": 28,
   "id": "0e678413",
   "metadata": {},
   "outputs": [
    {
     "name": "stdout",
     "output_type": "stream",
     "text": [
      "Writing get_mean_function.py\n"
     ]
    }
   ],
   "source": [
    "%%writefile get_mean_function.py\n",
    "def get_mean(column):\n",
    "    return df[column].mean()"
   ]
  },
  {
   "cell_type": "code",
   "execution_count": 29,
   "id": "af8bc4e6",
   "metadata": {},
   "outputs": [],
   "source": [
    "%%capture chart\n",
    "run plot_numbers.py 1 3 4 6 7 9 5 2"
   ]
  },
  {
   "cell_type": "code",
   "execution_count": 30,
   "id": "ba6813ef",
   "metadata": {},
   "outputs": [
    {
     "data": {
      "image/png": "[encoded data removed]",
      "text/plain": [
       "<Figure size 432x288 with 1 Axes>"
      ]
     },
     "metadata": {
      "needs_background": "light"
     },
     "output_type": "display_data"
    }
   ],
   "source": [
    "chart.show()"
   ]
  },
  {
   "cell_type": "code",
   "execution_count": 31,
   "id": "235070f6",
   "metadata": {},
   "outputs": [
    {
     "name": "stdout",
     "output_type": "stream",
     "text": [
      "def get_mean(column):\n",
      "    return df[column].mean()\n"
     ]
    }
   ],
   "source": [
    "!type get_mean_function.py"
   ]
  },
  {
   "cell_type": "code",
   "execution_count": 32,
   "id": "ef530586",
   "metadata": {},
   "outputs": [
    {
     "data": {
      "application/json": {
       "cell": {
        "!": "OSMagics",
        "HTML": "Other",
        "SVG": "Other",
        "bash": "Other",
        "capture": "ExecutionMagics",
        "cmd": "Other",
        "debug": "ExecutionMagics",
        "file": "Other",
        "html": "DisplayMagics",
        "javascript": "DisplayMagics",
        "js": "DisplayMagics",
        "latex": "DisplayMagics",
        "markdown": "DisplayMagics",
        "perl": "Other",
        "prun": "ExecutionMagics",
        "pypy": "Other",
        "python": "Other",
        "python2": "Other",
        "python3": "Other",
        "ruby": "Other",
        "script": "ScriptMagics",
        "sh": "Other",
        "svg": "DisplayMagics",
        "sx": "OSMagics",
        "system": "OSMagics",
        "time": "ExecutionMagics",
        "timeit": "ExecutionMagics",
        "writefile": "OSMagics"
       },
       "line": {
        "alias": "OSMagics",
        "alias_magic": "BasicMagics",
        "autoawait": "AsyncMagics",
        "autocall": "AutoMagics",
        "automagic": "AutoMagics",
        "autosave": "KernelMagics",
        "bookmark": "OSMagics",
        "cd": "OSMagics",
        "clear": "KernelMagics",
        "cls": "KernelMagics",
        "colors": "BasicMagics",
        "conda": "PackagingMagics",
        "config": "ConfigMagics",
        "connect_info": "KernelMagics",
        "copy": "Other",
        "ddir": "Other",
        "debug": "ExecutionMagics",
        "dhist": "OSMagics",
        "dirs": "OSMagics",
        "doctest_mode": "BasicMagics",
        "echo": "Other",
        "ed": "Other",
        "edit": "KernelMagics",
        "env": "OSMagics",
        "gui": "BasicMagics",
        "hist": "Other",
        "history": "HistoryMagics",
        "killbgscripts": "ScriptMagics",
        "ldir": "Other",
        "less": "KernelMagics",
        "load": "CodeMagics",
        "load_ext": "ExtensionMagics",
        "loadpy": "CodeMagics",
        "logoff": "LoggingMagics",
        "logon": "LoggingMagics",
        "logstart": "LoggingMagics",
        "logstate": "LoggingMagics",
        "logstop": "LoggingMagics",
        "ls": "Other",
        "lsmagic": "BasicMagics",
        "macro": "ExecutionMagics",
        "magic": "BasicMagics",
        "matplotlib": "PylabMagics",
        "mkdir": "Other",
        "more": "KernelMagics",
        "notebook": "BasicMagics",
        "page": "BasicMagics",
        "pastebin": "CodeMagics",
        "pdb": "ExecutionMagics",
        "pdef": "NamespaceMagics",
        "pdoc": "NamespaceMagics",
        "pfile": "NamespaceMagics",
        "pinfo": "NamespaceMagics",
        "pinfo2": "NamespaceMagics",
        "pip": "PackagingMagics",
        "popd": "OSMagics",
        "pprint": "BasicMagics",
        "precision": "BasicMagics",
        "prun": "ExecutionMagics",
        "psearch": "NamespaceMagics",
        "psource": "NamespaceMagics",
        "pushd": "OSMagics",
        "pwd": "OSMagics",
        "pycat": "OSMagics",
        "pylab": "PylabMagics",
        "qtconsole": "KernelMagics",
        "quickref": "BasicMagics",
        "recall": "HistoryMagics",
        "rehashx": "OSMagics",
        "reload_ext": "ExtensionMagics",
        "ren": "Other",
        "rep": "Other",
        "rerun": "HistoryMagics",
        "reset": "NamespaceMagics",
        "reset_selective": "NamespaceMagics",
        "rmdir": "Other",
        "run": "ExecutionMagics",
        "save": "CodeMagics",
        "sc": "OSMagics",
        "set_env": "OSMagics",
        "store": "StoreMagics",
        "sx": "OSMagics",
        "system": "OSMagics",
        "tb": "ExecutionMagics",
        "time": "ExecutionMagics",
        "timeit": "ExecutionMagics",
        "unalias": "OSMagics",
        "unload_ext": "ExtensionMagics",
        "who": "NamespaceMagics",
        "who_ls": "NamespaceMagics",
        "whos": "NamespaceMagics",
        "xdel": "NamespaceMagics",
        "xmode": "BasicMagics"
       }
      },
      "text/plain": [
       "Available line magics:\n",
       "%alias  %alias_magic  %autoawait  %autocall  %automagic  %autosave  %bookmark  %cd  %clear  %cls  %colors  %conda  %config  %connect_info  %copy  %ddir  %debug  %dhist  %dirs  %doctest_mode  %echo  %ed  %edit  %env  %gui  %hist  %history  %killbgscripts  %ldir  %less  %load  %load_ext  %loadpy  %logoff  %logon  %logstart  %logstate  %logstop  %ls  %lsmagic  %macro  %magic  %matplotlib  %mkdir  %more  %notebook  %page  %pastebin  %pdb  %pdef  %pdoc  %pfile  %pinfo  %pinfo2  %pip  %popd  %pprint  %precision  %prun  %psearch  %psource  %pushd  %pwd  %pycat  %pylab  %qtconsole  %quickref  %recall  %rehashx  %reload_ext  %ren  %rep  %rerun  %reset  %reset_selective  %rmdir  %run  %save  %sc  %set_env  %store  %sx  %system  %tb  %time  %timeit  %unalias  %unload_ext  %who  %who_ls  %whos  %xdel  %xmode\n",
       "\n",
       "Available cell magics:\n",
       "%%!  %%HTML  %%SVG  %%bash  %%capture  %%cmd  %%debug  %%file  %%html  %%javascript  %%js  %%latex  %%markdown  %%perl  %%prun  %%pypy  %%python  %%python2  %%python3  %%ruby  %%script  %%sh  %%svg  %%sx  %%system  %%time  %%timeit  %%writefile\n",
       "\n",
       "Automagic is ON, % prefix IS NOT needed for line magics."
      ]
     },
     "execution_count": 32,
     "metadata": {},
     "output_type": "execute_result"
    }
   ],
   "source": [
    "%lsmagic"
   ]
  },
  {
   "cell_type": "markdown",
   "id": "d58bfd91",
   "metadata": {},
   "source": [
    "***"
   ]
  },
  {
   "cell_type": "markdown",
   "id": "d3b89414",
   "metadata": {},
   "source": [
    "> Tomas"
   ]
  },
  {
   "cell_type": "code",
   "execution_count": null,
   "id": "c14fe657",
   "metadata": {},
   "outputs": [],
   "source": []
  }
 ],
 "metadata": {
  "kernelspec": {
   "display_name": "Python 3 (ipykernel)",
   "language": "python",
   "name": "python3"
  },
  "language_info": {
   "codemirror_mode": {
    "name": "ipython",
    "version": 3
   },
   "file_extension": ".py",
   "mimetype": "text/x-python",
   "name": "python",
   "nbconvert_exporter": "python",
   "pygments_lexer": "ipython3",
   "version": "3.9.12"
  }
 },
 "nbformat": 4,
 "nbformat_minor": 5
}
