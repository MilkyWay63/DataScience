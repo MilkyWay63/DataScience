{
 "cells": [
  {
   "cell_type": "code",
   "execution_count": 1,
   "id": "2be01bf0",
   "metadata": {},
   "outputs": [],
   "source": [
    "import matplotlib.pyplot as plt\n",
    "import numpy as np\n",
    "import pandas as pd"
   ]
  },
  {
   "cell_type": "code",
   "execution_count": 2,
   "id": "66e33e4a",
   "metadata": {},
   "outputs": [],
   "source": [
    "df = pd.read_csv('Environmental_Data_Deep_Moor_2015.csv')"
   ]
  },
  {
   "cell_type": "code",
   "execution_count": 10,
   "id": "db3f4ccb",
   "metadata": {},
   "outputs": [],
   "source": [
    "?plt.plot"
   ]
  },
  {
   "cell_type": "code",
   "execution_count": 4,
   "id": "0387996a",
   "metadata": {},
   "outputs": [
    {
     "data": {
      "text/html": [
       "<div>\n",
       "<style scoped>\n",
       "    .dataframe tbody tr th:only-of-type {\n",
       "        vertical-align: middle;\n",
       "    }\n",
       "\n",
       "    .dataframe tbody tr th {\n",
       "        vertical-align: top;\n",
       "    }\n",
       "\n",
       "    .dataframe thead th {\n",
       "        text-align: right;\n",
       "    }\n",
       "</style>\n",
       "<table border=\"1\" class=\"dataframe\">\n",
       "  <thead>\n",
       "    <tr style=\"text-align: right;\">\n",
       "      <th></th>\n",
       "      <th>date</th>\n",
       "      <th>time</th>\n",
       "      <th>Air_Temp</th>\n",
       "      <th>Barometric_Press</th>\n",
       "      <th>Dew_Point</th>\n",
       "      <th>Relative_Humidity</th>\n",
       "      <th>Wind_Dir</th>\n",
       "      <th>Wind_Gust</th>\n",
       "      <th>Wind_Speed</th>\n",
       "    </tr>\n",
       "  </thead>\n",
       "  <tbody>\n",
       "    <tr>\n",
       "      <th>0</th>\n",
       "      <td>2015_01_01</td>\n",
       "      <td>0:02:43</td>\n",
       "      <td>19.50</td>\n",
       "      <td>30.62</td>\n",
       "      <td>14.78</td>\n",
       "      <td>81.6</td>\n",
       "      <td>159.78</td>\n",
       "      <td>14</td>\n",
       "      <td>9.2</td>\n",
       "    </tr>\n",
       "    <tr>\n",
       "      <th>1</th>\n",
       "      <td>2015_01_01</td>\n",
       "      <td>0:02:52</td>\n",
       "      <td>19.50</td>\n",
       "      <td>30.62</td>\n",
       "      <td>14.78</td>\n",
       "      <td>81.6</td>\n",
       "      <td>159.78</td>\n",
       "      <td>14</td>\n",
       "      <td>9.2</td>\n",
       "    </tr>\n",
       "    <tr>\n",
       "      <th>2</th>\n",
       "      <td>2015_01_01</td>\n",
       "      <td>0:07:43</td>\n",
       "      <td>19.50</td>\n",
       "      <td>30.61</td>\n",
       "      <td>14.66</td>\n",
       "      <td>81.2</td>\n",
       "      <td>155.63</td>\n",
       "      <td>11</td>\n",
       "      <td>8.6</td>\n",
       "    </tr>\n",
       "    <tr>\n",
       "      <th>3</th>\n",
       "      <td>2015_01_01</td>\n",
       "      <td>0:07:52</td>\n",
       "      <td>19.50</td>\n",
       "      <td>30.61</td>\n",
       "      <td>14.66</td>\n",
       "      <td>81.2</td>\n",
       "      <td>155.63</td>\n",
       "      <td>11</td>\n",
       "      <td>8.6</td>\n",
       "    </tr>\n",
       "    <tr>\n",
       "      <th>4</th>\n",
       "      <td>2015_01_01</td>\n",
       "      <td>0:12:43</td>\n",
       "      <td>19.68</td>\n",
       "      <td>30.61</td>\n",
       "      <td>15.20</td>\n",
       "      <td>82.4</td>\n",
       "      <td>166.59</td>\n",
       "      <td>12</td>\n",
       "      <td>9.4</td>\n",
       "    </tr>\n",
       "  </tbody>\n",
       "</table>\n",
       "</div>"
      ],
      "text/plain": [
       "         date     time  Air_Temp  Barometric_Press  Dew_Point  \\\n",
       "0  2015_01_01  0:02:43     19.50             30.62      14.78   \n",
       "1  2015_01_01  0:02:52     19.50             30.62      14.78   \n",
       "2  2015_01_01  0:07:43     19.50             30.61      14.66   \n",
       "3  2015_01_01  0:07:52     19.50             30.61      14.66   \n",
       "4  2015_01_01  0:12:43     19.68             30.61      15.20   \n",
       "\n",
       "   Relative_Humidity  Wind_Dir  Wind_Gust  Wind_Speed  \n",
       "0               81.6    159.78         14         9.2  \n",
       "1               81.6    159.78         14         9.2  \n",
       "2               81.2    155.63         11         8.6  \n",
       "3               81.2    155.63         11         8.6  \n",
       "4               82.4    166.59         12         9.4  "
      ]
     },
     "execution_count": 4,
     "metadata": {},
     "output_type": "execute_result"
    }
   ],
   "source": [
    "df.head()"
   ]
  },
  {
   "cell_type": "code",
   "execution_count": 7,
   "id": "b229c8e8",
   "metadata": {},
   "outputs": [],
   "source": [
    "def hours_dict(date):\n",
    "    day = df[df['date']==date]\n",
    "    hours = [time.split(':')[0] for time in day['time']]\n",
    "    hours_dict = {i:hours.count(str(i)) for i in np.arange(24)}\n",
    "    return hours_dict"
   ]
  },
  {
   "cell_type": "code",
   "execution_count": 8,
   "id": "c2154d2c",
   "metadata": {},
   "outputs": [],
   "source": [
    "feb15 = hours_dict('2015_02_15')"
   ]
  },
  {
   "cell_type": "code",
   "execution_count": 11,
   "id": "0e1b34d9",
   "metadata": {},
   "outputs": [
    {
     "data": {
      "image/png": "[encoded data removed]",
      "text/plain": [
       "<Figure size 432x288 with 1 Axes>"
      ]
     },
     "metadata": {
      "needs_background": "light"
     },
     "output_type": "display_data"
    }
   ],
   "source": [
    "plt.plot(feb15.keys(), feb15.values())\n",
    "plt.show()"
   ]
  },
  {
   "cell_type": "code",
   "execution_count": 13,
   "id": "acdfa4b8",
   "metadata": {},
   "outputs": [],
   "source": [
    "feb16 = hours_dict('2015_02_16')"
   ]
  },
  {
   "cell_type": "code",
   "execution_count": 14,
   "id": "c21c410f",
   "metadata": {},
   "outputs": [
    {
     "data": {
      "image/png": "[encoded data removed]",
      "text/plain": [
       "<Figure size 432x288 with 1 Axes>"
      ]
     },
     "metadata": {
      "needs_background": "light"
     },
     "output_type": "display_data"
    }
   ],
   "source": [
    "plt.plot(feb16.keys(), feb16.values())\n",
    "plt.show()"
   ]
  },
  {
   "cell_type": "code",
   "execution_count": 15,
   "id": "72028d87",
   "metadata": {},
   "outputs": [
    {
     "data": {
      "image/png": "[encoded data removed]",
      "text/plain": [
       "<Figure size 432x288 with 1 Axes>"
      ]
     },
     "metadata": {
      "needs_background": "light"
     },
     "output_type": "display_data"
    }
   ],
   "source": [
    "plt.plot(feb15.keys(), feb15.values())\n",
    "plt.plot(feb16.keys(), feb16.values())\n",
    "plt.show()"
   ]
  },
  {
   "cell_type": "code",
   "execution_count": 20,
   "id": "8de3566a",
   "metadata": {},
   "outputs": [
    {
     "data": {
      "image/png": "[encoded data removed]",
      "text/plain": [
       "<Figure size 432x288 with 1 Axes>"
      ]
     },
     "metadata": {
      "needs_background": "light"
     },
     "output_type": "display_data"
    }
   ],
   "source": [
    "plt.plot(feb15.keys(), feb15.values())\n",
    "plt.plot(feb16.keys(), feb16.values())\n",
    "plt.xticks(np.arange(0,24,6))\n",
    "plt.xlim(-3, 26)\n",
    "plt.ylim(-3, 28)\n",
    "plt.xlabel('Hours Of The Day')\n",
    "plt.ylabel('Measurements Taken')\n",
    "plt.title('Measurements By Hour')\n",
    "plt.show()"
   ]
  },
  {
   "cell_type": "code",
   "execution_count": null,
   "id": "cc6bc176",
   "metadata": {},
   "outputs": [],
   "source": []
  }
 ],
 "metadata": {
  "kernelspec": {
   "display_name": "Python 3 (ipykernel)",
   "language": "python",
   "name": "python3"
  },
  "language_info": {
   "codemirror_mode": {
    "name": "ipython",
    "version": 3
   },
   "file_extension": ".py",
   "mimetype": "text/x-python",
   "name": "python",
   "nbconvert_exporter": "python",
   "pygments_lexer": "ipython3",
   "version": "3.9.12"
  }
 },
 "nbformat": 4,
 "nbformat_minor": 5
}
