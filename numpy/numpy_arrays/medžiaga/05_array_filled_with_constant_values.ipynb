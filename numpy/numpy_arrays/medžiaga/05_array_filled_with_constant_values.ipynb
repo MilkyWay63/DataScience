{
 "cells": [
  {
   "cell_type": "markdown",
   "id": "f155299f",
   "metadata": {},
   "source": [
    "# Array su pastoviom reikšmėm"
   ]
  },
  {
   "cell_type": "code",
   "execution_count": 1,
   "id": "1bafa88a",
   "metadata": {},
   "outputs": [],
   "source": [
    "import numpy as np"
   ]
  },
  {
   "cell_type": "markdown",
   "id": "700d25a1",
   "metadata": {},
   "source": [
    "## NumPy zeros"
   ]
  },
  {
   "cell_type": "code",
   "execution_count": 2,
   "id": "58c2a887",
   "metadata": {},
   "outputs": [],
   "source": [
    "?np.zeros"
   ]
  },
  {
   "cell_type": "markdown",
   "id": "b3dda42d",
   "metadata": {},
   "source": [
    "### One-dimensional"
   ]
  },
  {
   "cell_type": "code",
   "execution_count": 3,
   "id": "6ffbd09b",
   "metadata": {},
   "outputs": [
    {
     "data": {
      "text/plain": [
       "array([0., 0., 0., 0., 0.])"
      ]
     },
     "execution_count": 3,
     "metadata": {},
     "output_type": "execute_result"
    }
   ],
   "source": [
    "first_z_array = np.zeros(5)\n",
    "first_z_array"
   ]
  },
  {
   "cell_type": "markdown",
   "id": "57284f15",
   "metadata": {},
   "source": [
    "> Gauname array su 5 nuliukais"
   ]
  },
  {
   "cell_type": "markdown",
   "id": "7082f1d2",
   "metadata": {},
   "source": [
    "### Two-dimensional"
   ]
  },
  {
   "cell_type": "code",
   "execution_count": 4,
   "id": "5d2e478f",
   "metadata": {},
   "outputs": [
    {
     "data": {
      "text/plain": [
       "array([[0., 0., 0., 0., 0.],\n",
       "       [0., 0., 0., 0., 0.],\n",
       "       [0., 0., 0., 0., 0.],\n",
       "       [0., 0., 0., 0., 0.]])"
      ]
     },
     "execution_count": 4,
     "metadata": {},
     "output_type": "execute_result"
    }
   ],
   "source": [
    "second_z_array = np.zeros((4,5))\n",
    "second_z_array"
   ]
  },
  {
   "cell_type": "markdown",
   "id": "feb431eb",
   "metadata": {},
   "source": [
    "> Gauname dvimatį masyvą su 4 eilutėm ir 5 stulpeliais ir užpildytom nulinėm reikšmėm."
   ]
  },
  {
   "cell_type": "markdown",
   "id": "4011dc21",
   "metadata": {},
   "source": [
    "## NumPy Ones"
   ]
  },
  {
   "cell_type": "code",
   "execution_count": 5,
   "id": "7a4bcb76",
   "metadata": {},
   "outputs": [],
   "source": [
    "?np.ones"
   ]
  },
  {
   "cell_type": "markdown",
   "id": "b552bd69",
   "metadata": {},
   "source": [
    "### One-dimensional"
   ]
  },
  {
   "cell_type": "code",
   "execution_count": 6,
   "id": "8b8f37fe",
   "metadata": {},
   "outputs": [
    {
     "data": {
      "text/plain": [
       "array([1., 1., 1., 1., 1., 1.])"
      ]
     },
     "execution_count": 6,
     "metadata": {},
     "output_type": "execute_result"
    }
   ],
   "source": [
    "first_ones_array = np.ones(6)\n",
    "first_ones_array"
   ]
  },
  {
   "cell_type": "markdown",
   "id": "e02f2569",
   "metadata": {},
   "source": [
    "> Gauname array su 6 vienetukais"
   ]
  },
  {
   "cell_type": "markdown",
   "id": "6a667364",
   "metadata": {},
   "source": [
    "### Two-dimensional"
   ]
  },
  {
   "cell_type": "code",
   "execution_count": 7,
   "id": "71989d41",
   "metadata": {},
   "outputs": [
    {
     "data": {
      "text/plain": [
       "array([[1., 1., 1., 1., 1., 1., 1., 1.],\n",
       "       [1., 1., 1., 1., 1., 1., 1., 1.],\n",
       "       [1., 1., 1., 1., 1., 1., 1., 1.],\n",
       "       [1., 1., 1., 1., 1., 1., 1., 1.],\n",
       "       [1., 1., 1., 1., 1., 1., 1., 1.],\n",
       "       [1., 1., 1., 1., 1., 1., 1., 1.],\n",
       "       [1., 1., 1., 1., 1., 1., 1., 1.]])"
      ]
     },
     "execution_count": 7,
     "metadata": {},
     "output_type": "execute_result"
    }
   ],
   "source": [
    "second_ones_array = np.ones((7,8))\n",
    "second_ones_array"
   ]
  },
  {
   "cell_type": "markdown",
   "id": "d9cdc0db",
   "metadata": {},
   "source": [
    "> Gauname two-dimensional array su 7 eilutėm ir 8 stulpeliais ir užpildytais vienetukais"
   ]
  },
  {
   "cell_type": "markdown",
   "id": "83d95c96",
   "metadata": {},
   "source": [
    "### Three-dimensional"
   ]
  },
  {
   "cell_type": "code",
   "execution_count": 8,
   "id": "7f9507d4",
   "metadata": {},
   "outputs": [
    {
     "data": {
      "text/plain": [
       "array([[[1, 1],\n",
       "        [1, 1],\n",
       "        [1, 1],\n",
       "        [1, 1],\n",
       "        [1, 1]],\n",
       "\n",
       "       [[1, 1],\n",
       "        [1, 1],\n",
       "        [1, 1],\n",
       "        [1, 1],\n",
       "        [1, 1]],\n",
       "\n",
       "       [[1, 1],\n",
       "        [1, 1],\n",
       "        [1, 1],\n",
       "        [1, 1],\n",
       "        [1, 1]],\n",
       "\n",
       "       [[1, 1],\n",
       "        [1, 1],\n",
       "        [1, 1],\n",
       "        [1, 1],\n",
       "        [1, 1]]])"
      ]
     },
     "execution_count": 8,
     "metadata": {},
     "output_type": "execute_result"
    }
   ],
   "source": [
    "third_ones_array = np.ones((4,5,2), dtype=int)\n",
    "third_ones_array"
   ]
  },
  {
   "cell_type": "markdown",
   "id": "5762d6ca",
   "metadata": {},
   "source": [
    "> Gauname three-dim array ir šį kartą mūsų reikšmės yra integer tipo."
   ]
  },
  {
   "cell_type": "markdown",
   "id": "267fab5b",
   "metadata": {},
   "source": [
    "## NumPy Empty ir Fill"
   ]
  },
  {
   "cell_type": "markdown",
   "id": "befc786d",
   "metadata": {},
   "source": [
    "Fill metodas naudojamas tik su one-dimensional array. Norint naudoti fill metodą reikia turėti jau egzistuojantį array, todėl mes naudojam empty metodą sukurti tuščiam array."
   ]
  },
  {
   "cell_type": "code",
   "execution_count": 13,
   "id": "a01cc4f8",
   "metadata": {},
   "outputs": [],
   "source": [
    "?np.empty"
   ]
  },
  {
   "cell_type": "code",
   "execution_count": 11,
   "id": "90cde6cc",
   "metadata": {},
   "outputs": [],
   "source": [
    "?np.ndarray.fill"
   ]
  },
  {
   "cell_type": "code",
   "execution_count": 12,
   "id": "8d5a8a45",
   "metadata": {},
   "outputs": [
    {
     "data": {
      "text/plain": [
       "array([0, 0, 0, 0, 0, 0, 0, 0, 0, 0])"
      ]
     },
     "execution_count": 12,
     "metadata": {},
     "output_type": "execute_result"
    }
   ],
   "source": [
    "first_fill_array = np.empty(10, dtype=int)\n",
    "first_fill_array"
   ]
  },
  {
   "cell_type": "code",
   "execution_count": 15,
   "id": "61ee554e",
   "metadata": {},
   "outputs": [
    {
     "data": {
      "text/plain": [
       "array([12, 12, 12, 12, 12, 12, 12, 12, 12, 12])"
      ]
     },
     "execution_count": 15,
     "metadata": {},
     "output_type": "execute_result"
    }
   ],
   "source": [
    "first_fill_array.fill(12)\n",
    "first_fill_array"
   ]
  },
  {
   "cell_type": "markdown",
   "id": "14293581",
   "metadata": {},
   "source": [
    "> Gauname array su 10 dvyliktukų. "
   ]
  },
  {
   "cell_type": "markdown",
   "id": "b2054cdc",
   "metadata": {},
   "source": [
    "## NumPy Full"
   ]
  },
  {
   "cell_type": "markdown",
   "id": "9d17dc02",
   "metadata": {},
   "source": [
    "Full metodas gali būti naudojamas tiek su one-dimensional, tiek su multi-dimensional"
   ]
  },
  {
   "cell_type": "code",
   "execution_count": 16,
   "id": "86ae3322",
   "metadata": {},
   "outputs": [],
   "source": [
    "?np.full"
   ]
  },
  {
   "cell_type": "markdown",
   "id": "863afe8f",
   "metadata": {},
   "source": [
    "### One-dimensional"
   ]
  },
  {
   "cell_type": "code",
   "execution_count": 17,
   "id": "90ecf0b9",
   "metadata": {},
   "outputs": [
    {
     "data": {
      "text/plain": [
       "array([10, 10, 10, 10, 10])"
      ]
     },
     "execution_count": 17,
     "metadata": {},
     "output_type": "execute_result"
    }
   ],
   "source": [
    "first_full_array = np.full(5,10)\n",
    "first_full_array"
   ]
  },
  {
   "cell_type": "markdown",
   "id": "a35ca026",
   "metadata": {},
   "source": [
    "> Gauname array su 5 dešimtukais"
   ]
  },
  {
   "cell_type": "markdown",
   "id": "79ecd2c9",
   "metadata": {},
   "source": [
    "### Two-dimensional"
   ]
  },
  {
   "cell_type": "code",
   "execution_count": 18,
   "id": "1b00156f",
   "metadata": {},
   "outputs": [
    {
     "data": {
      "text/plain": [
       "array([[8, 8, 8, 8, 8],\n",
       "       [8, 8, 8, 8, 8],\n",
       "       [8, 8, 8, 8, 8],\n",
       "       [8, 8, 8, 8, 8]])"
      ]
     },
     "execution_count": 18,
     "metadata": {},
     "output_type": "execute_result"
    }
   ],
   "source": [
    "second_full_array = np.full((4,5), 8)\n",
    "second_full_array"
   ]
  },
  {
   "cell_type": "markdown",
   "id": "6a69a6d7",
   "metadata": {},
   "source": [
    "> Gauname two-dimensional array užpildytą aštuonetais (4 eilutės ir 5 stulpeliai)"
   ]
  }
 ],
 "metadata": {
  "kernelspec": {
   "display_name": "Python 3 (ipykernel)",
   "language": "python",
   "name": "python3"
  },
  "language_info": {
   "codemirror_mode": {
    "name": "ipython",
    "version": 3
   },
   "file_extension": ".py",
   "mimetype": "text/x-python",
   "name": "python",
   "nbconvert_exporter": "python",
   "pygments_lexer": "ipython3",
   "version": "3.9.12"
  }
 },
 "nbformat": 4,
 "nbformat_minor": 5
}
