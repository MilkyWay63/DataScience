{
 "cells": [
  {
   "cell_type": "markdown",
   "id": "73b7e461",
   "metadata": {},
   "source": [
    "# Array tipai ir konvertavimas"
   ]
  },
  {
   "cell_type": "code",
   "execution_count": 1,
   "id": "ee0c53e2",
   "metadata": {},
   "outputs": [],
   "source": [
    "import numpy as np"
   ]
  },
  {
   "cell_type": "markdown",
   "id": "e278c43e",
   "metadata": {},
   "source": [
    "> Kiekvieną kartą kai naudosim NumPy, mes naudosim np prefiksą. Tai tiesiog standartinis numpy naming convention."
   ]
  },
  {
   "cell_type": "code",
   "execution_count": 2,
   "id": "3ad8db5a",
   "metadata": {},
   "outputs": [
    {
     "data": {
      "text/plain": [
       "array([10, 20, 30, 40, 50])"
      ]
     },
     "execution_count": 2,
     "metadata": {},
     "output_type": "execute_result"
    }
   ],
   "source": [
    "integers = np.array([10,20,30,40,50])\n",
    "integers"
   ]
  },
  {
   "cell_type": "markdown",
   "id": "a5a2cae4",
   "metadata": {},
   "source": [
    "## Pirma reikšmė"
   ]
  },
  {
   "cell_type": "code",
   "execution_count": 4,
   "id": "f5d83e5f",
   "metadata": {},
   "outputs": [
    {
     "data": {
      "text/plain": [
       "10"
      ]
     },
     "execution_count": 4,
     "metadata": {},
     "output_type": "execute_result"
    }
   ],
   "source": [
    "integers[0]"
   ]
  },
  {
   "cell_type": "markdown",
   "id": "188219e6",
   "metadata": {},
   "source": [
    "> Taip pat kaip ir Python listas, čia indeksavimas yra zero-based (prasideda nuo nulio)"
   ]
  },
  {
   "cell_type": "markdown",
   "id": "387d5e32",
   "metadata": {},
   "source": [
    "## Pakeisti reikšmę"
   ]
  },
  {
   "cell_type": "code",
   "execution_count": 5,
   "id": "c0b0f3fb",
   "metadata": {},
   "outputs": [
    {
     "data": {
      "text/plain": [
       "array([20, 20, 30, 40, 50])"
      ]
     },
     "execution_count": 5,
     "metadata": {},
     "output_type": "execute_result"
    }
   ],
   "source": [
    "integers[0] = 20\n",
    "integers"
   ]
  },
  {
   "cell_type": "markdown",
   "id": "cdd842ca",
   "metadata": {},
   "source": [
    "## Pakeisti reikšmę kitu duomenų tipu"
   ]
  },
  {
   "cell_type": "code",
   "execution_count": 6,
   "id": "394c1cc0",
   "metadata": {},
   "outputs": [
    {
     "data": {
      "text/plain": [
       "array([21, 20, 30, 40, 50])"
      ]
     },
     "execution_count": 6,
     "metadata": {},
     "output_type": "execute_result"
    }
   ],
   "source": [
    "integers[0] = 21.5\n",
    "integers"
   ]
  },
  {
   "cell_type": "markdown",
   "id": "ae46eacd",
   "metadata": {},
   "source": [
    "> Skaičius automatiškai sutrumpintas (nuimtas skaičius po kablelio). Tai yra todėl, kad NumPy array visi duomenys turi būti vienodo tipo."
   ]
  },
  {
   "cell_type": "markdown",
   "id": "616b411c",
   "metadata": {},
   "source": [
    "## Patikrinti duomenų tipą"
   ]
  },
  {
   "cell_type": "code",
   "execution_count": 7,
   "id": "51d9b2d5",
   "metadata": {},
   "outputs": [
    {
     "data": {
      "text/plain": [
       "dtype('int32')"
      ]
     },
     "execution_count": 7,
     "metadata": {},
     "output_type": "execute_result"
    }
   ],
   "source": [
    "integers.dtype"
   ]
  },
  {
   "cell_type": "markdown",
   "id": "2e655451",
   "metadata": {},
   "source": [
    "> Array taip pat gali būti: int32, int64, floating point numbers, unsigned integers, complex numbers."
   ]
  },
  {
   "cell_type": "markdown",
   "id": "3ad4ec60",
   "metadata": {},
   "source": [
    "## Pakeisti array duomenų tipą"
   ]
  },
  {
   "cell_type": "code",
   "execution_count": 8,
   "id": "d859156c",
   "metadata": {},
   "outputs": [
    {
     "data": {
      "text/plain": [
       "array([21, 20, 30, 40, 50], dtype=int8)"
      ]
     },
     "execution_count": 8,
     "metadata": {},
     "output_type": "execute_result"
    }
   ],
   "source": [
    "smaller_integers = np.array(integers, dtype=np.int8)\n",
    "smaller_integers"
   ]
  },
  {
   "cell_type": "markdown",
   "id": "e3564a4a",
   "metadata": {},
   "source": [
    "## Pažiūrėti objektų dydžių skirtumus"
   ]
  },
  {
   "cell_type": "code",
   "execution_count": 9,
   "id": "f3638aee",
   "metadata": {},
   "outputs": [
    {
     "data": {
      "text/plain": [
       "20"
      ]
     },
     "execution_count": 9,
     "metadata": {},
     "output_type": "execute_result"
    }
   ],
   "source": [
    "integers.nbytes"
   ]
  },
  {
   "cell_type": "code",
   "execution_count": 10,
   "id": "69a842a6",
   "metadata": {},
   "outputs": [
    {
     "data": {
      "text/plain": [
       "5"
      ]
     },
     "execution_count": 10,
     "metadata": {},
     "output_type": "execute_result"
    }
   ],
   "source": [
    "smaller_integers.nbytes"
   ]
  },
  {
   "cell_type": "markdown",
   "id": "fdddb151",
   "metadata": {},
   "source": [
    "> Turint tuos pačius elementus, smaller_integers naudoja 4 kartus mažiau atminties(memory)."
   ]
  },
  {
   "cell_type": "markdown",
   "id": "c83761e2",
   "metadata": {},
   "source": [
    "## Neteisingai nurodomas duomenų tipas"
   ]
  },
  {
   "cell_type": "code",
   "execution_count": 11,
   "id": "18882217",
   "metadata": {},
   "outputs": [
    {
     "data": {
      "text/plain": [
       "array([ 127, -128, -127], dtype=int8)"
      ]
     },
     "execution_count": 11,
     "metadata": {},
     "output_type": "execute_result"
    }
   ],
   "source": [
    "overflow = np.array([127, 128, 129], dtype=np.int8)\n",
    "overflow"
   ]
  },
  {
   "cell_type": "markdown",
   "id": "860dae98",
   "metadata": {},
   "source": [
    "> NumPy pakeičia reikšmes, kurios tenkina dtype."
   ]
  },
  {
   "cell_type": "markdown",
   "id": "433bf678",
   "metadata": {},
   "source": [
    "## Automatinis nustatymas duomenų tipo"
   ]
  },
  {
   "cell_type": "code",
   "execution_count": 12,
   "id": "21bc493e",
   "metadata": {},
   "outputs": [
    {
     "data": {
      "text/plain": [
       "array([1.2, 2.3, 3.4, 4.5, 5.6])"
      ]
     },
     "execution_count": 12,
     "metadata": {},
     "output_type": "execute_result"
    }
   ],
   "source": [
    "floats = np.array([1.2,2.3,3.4,4.5,5.6])\n",
    "floats"
   ]
  },
  {
   "cell_type": "code",
   "execution_count": 13,
   "id": "78bc97b5",
   "metadata": {},
   "outputs": [
    {
     "data": {
      "text/plain": [
       "dtype('float64')"
      ]
     },
     "execution_count": 13,
     "metadata": {},
     "output_type": "execute_result"
    }
   ],
   "source": [
    "floats.dtype"
   ]
  },
  {
   "cell_type": "markdown",
   "id": "3fe80397",
   "metadata": {},
   "source": [
    "> Net nenurodžius duomenų tipo, NumPy pats atpažino iš elementų, kad tai bus float64 tipas."
   ]
  },
  {
   "cell_type": "code",
   "execution_count": null,
   "id": "03a2f48e",
   "metadata": {},
   "outputs": [],
   "source": []
  }
 ],
 "metadata": {
  "kernelspec": {
   "display_name": "Python 3 (ipykernel)",
   "language": "python",
   "name": "python3"
  },
  "language_info": {
   "codemirror_mode": {
    "name": "ipython",
    "version": 3
   },
   "file_extension": ".py",
   "mimetype": "text/x-python",
   "name": "python",
   "nbconvert_exporter": "python",
   "pygments_lexer": "ipython3",
   "version": "3.9.12"
  }
 },
 "nbformat": 4,
 "nbformat_minor": 5
}
