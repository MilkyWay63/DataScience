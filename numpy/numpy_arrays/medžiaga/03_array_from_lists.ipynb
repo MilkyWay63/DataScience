{
 "cells": [
  {
   "cell_type": "markdown",
   "id": "d97cae79",
   "metadata": {},
   "source": [
    "# Array kūrimas iš sąrašų ir kitų Python struktūrų"
   ]
  },
  {
   "cell_type": "code",
   "execution_count": 1,
   "id": "275b815b",
   "metadata": {},
   "outputs": [],
   "source": [
    "import numpy as np"
   ]
  },
  {
   "cell_type": "markdown",
   "id": "87752d72",
   "metadata": {},
   "source": [
    "## Python list pavertimas į NumPy array"
   ]
  },
  {
   "cell_type": "code",
   "execution_count": 2,
   "id": "30afa700",
   "metadata": {},
   "outputs": [
    {
     "data": {
      "text/plain": [
       "[1, 2, 3, 4, 5, 6, 7, 8, 9, 10]"
      ]
     },
     "execution_count": 2,
     "metadata": {},
     "output_type": "execute_result"
    }
   ],
   "source": [
    "first_list = [1,2,3,4,5,6,7,8,9,10]\n",
    "first_list"
   ]
  },
  {
   "cell_type": "code",
   "execution_count": 3,
   "id": "4ffcfc52",
   "metadata": {},
   "outputs": [
    {
     "data": {
      "text/plain": [
       "array([ 1,  2,  3,  4,  5,  6,  7,  8,  9, 10])"
      ]
     },
     "execution_count": 3,
     "metadata": {},
     "output_type": "execute_result"
    }
   ],
   "source": [
    "first_array = np.array(first_list)\n",
    "first_array"
   ]
  },
  {
   "cell_type": "markdown",
   "id": "44a8af95",
   "metadata": {},
   "source": [
    "> Matome, kad gavome vienos dimensijos array sudarytą iš Python listo"
   ]
  },
  {
   "cell_type": "markdown",
   "id": "5668dbfa",
   "metadata": {},
   "source": [
    "## Skirtingų skaitinių tipų Python listo pavertimas į NumPy array"
   ]
  },
  {
   "cell_type": "code",
   "execution_count": 12,
   "id": "a4ccbdb1",
   "metadata": {},
   "outputs": [
    {
     "data": {
      "text/plain": [
       "[1, 2, 3, 1, 50, 128000, 4.56]"
      ]
     },
     "execution_count": 12,
     "metadata": {},
     "output_type": "execute_result"
    }
   ],
   "source": [
    "second_list = [1,2,3,1,50,128000,4.56]\n",
    "second_list"
   ]
  },
  {
   "cell_type": "code",
   "execution_count": 13,
   "id": "c15b7ff6",
   "metadata": {},
   "outputs": [
    {
     "data": {
      "text/plain": [
       "array([1.00e+00, 2.00e+00, 3.00e+00, 1.00e+00, 5.00e+01, 1.28e+05,\n",
       "       4.56e+00])"
      ]
     },
     "execution_count": 13,
     "metadata": {},
     "output_type": "execute_result"
    }
   ],
   "source": [
    "second_array = np.array(second_list)\n",
    "second_array"
   ]
  },
  {
   "cell_type": "code",
   "execution_count": 7,
   "id": "b1e1bc70",
   "metadata": {},
   "outputs": [
    {
     "data": {
      "text/plain": [
       "dtype('float64')"
      ]
     },
     "execution_count": 7,
     "metadata": {},
     "output_type": "execute_result"
    }
   ],
   "source": [
    "second_array.dtype"
   ]
  },
  {
   "cell_type": "markdown",
   "id": "1ecc7142",
   "metadata": {},
   "source": [
    "> Matome, kad array funkcija automatiškai pavertė visas reikšmes į daugiau baitų užimantį tipą"
   ]
  },
  {
   "cell_type": "markdown",
   "id": "4e70ddd1",
   "metadata": {},
   "source": [
    "## Skirtingų tipų Python listo pavertimas į NumPy array"
   ]
  },
  {
   "cell_type": "code",
   "execution_count": 15,
   "id": "84b117e4",
   "metadata": {},
   "outputs": [
    {
     "data": {
      "text/plain": [
       "['Ann', 111111, 'Peter', 111112, 'Susan', 111113, 'John', 111114]"
      ]
     },
     "execution_count": 15,
     "metadata": {},
     "output_type": "execute_result"
    }
   ],
   "source": [
    "third_list = ['Ann',111111,'Peter',111112,'Susan',111113,'John',111114]\n",
    "third_list"
   ]
  },
  {
   "cell_type": "code",
   "execution_count": 17,
   "id": "cba4c217",
   "metadata": {},
   "outputs": [
    {
     "data": {
      "text/plain": [
       "array(['Ann', '111111', 'Peter', '111112', 'Susan', '111113', 'John',\n",
       "       '111114'], dtype='<U11')"
      ]
     },
     "execution_count": 17,
     "metadata": {},
     "output_type": "execute_result"
    }
   ],
   "source": [
    "third_array = np.array(third_list)\n",
    "third_array"
   ]
  },
  {
   "cell_type": "markdown",
   "id": "0bf34a36",
   "metadata": {},
   "source": [
    "> Matome, kad visi elementai pavirto į string tipo elementus"
   ]
  },
  {
   "cell_type": "markdown",
   "id": "56e131cd",
   "metadata": {},
   "source": [
    "## Python tuple pavertimas į NumPy array"
   ]
  },
  {
   "cell_type": "code",
   "execution_count": 18,
   "id": "dfd35d2c",
   "metadata": {},
   "outputs": [
    {
     "data": {
      "text/plain": [
       "(5, 10, 15, 20, 25, 30)"
      ]
     },
     "execution_count": 18,
     "metadata": {},
     "output_type": "execute_result"
    }
   ],
   "source": [
    "first_tuple = (5,10,15,20,25,30)\n",
    "first_tuple"
   ]
  },
  {
   "cell_type": "code",
   "execution_count": 19,
   "id": "0a161d08",
   "metadata": {},
   "outputs": [
    {
     "data": {
      "text/plain": [
       "array([ 5, 10, 15, 20, 25, 30])"
      ]
     },
     "execution_count": 19,
     "metadata": {},
     "output_type": "execute_result"
    }
   ],
   "source": [
    "array_from_tuple = np.array(first_tuple)\n",
    "array_from_tuple"
   ]
  },
  {
   "cell_type": "code",
   "execution_count": 20,
   "id": "e517caae",
   "metadata": {},
   "outputs": [
    {
     "data": {
      "text/plain": [
       "dtype('int32')"
      ]
     },
     "execution_count": 20,
     "metadata": {},
     "output_type": "execute_result"
    }
   ],
   "source": [
    "array_from_tuple.dtype"
   ]
  },
  {
   "cell_type": "markdown",
   "id": "22c6988f",
   "metadata": {},
   "source": [
    "> Matome, kad niekas nepasikeitė nuo konvertavimo iš Python list."
   ]
  },
  {
   "cell_type": "markdown",
   "id": "6dda0b7a",
   "metadata": {},
   "source": [
    "## Python listų iš listo pavertimas į NumPy array"
   ]
  },
  {
   "cell_type": "code",
   "execution_count": 22,
   "id": "0fb6e54b",
   "metadata": {},
   "outputs": [
    {
     "data": {
      "text/plain": [
       "[[[1, 2, 3], [4, 5, 6]], [[7, 8, 9], [10, 11, 12]]]"
      ]
     },
     "execution_count": 22,
     "metadata": {},
     "output_type": "execute_result"
    }
   ],
   "source": [
    "multi_dim_list = [[[1,2,3],[4,5,6]],[[7,8,9],[10,11,12]]]\n",
    "multi_dim_list"
   ]
  },
  {
   "cell_type": "code",
   "execution_count": 23,
   "id": "dc4fa42d",
   "metadata": {},
   "outputs": [
    {
     "data": {
      "text/plain": [
       "array([[[ 1,  2,  3],\n",
       "        [ 4,  5,  6]],\n",
       "\n",
       "       [[ 7,  8,  9],\n",
       "        [10, 11, 12]]])"
      ]
     },
     "execution_count": 23,
     "metadata": {},
     "output_type": "execute_result"
    }
   ],
   "source": [
    "arr_from_multi_dim_list = np.array(multi_dim_list)\n",
    "arr_from_multi_dim_list"
   ]
  },
  {
   "cell_type": "code",
   "execution_count": 24,
   "id": "aab50f30",
   "metadata": {},
   "outputs": [
    {
     "data": {
      "text/plain": [
       "3"
      ]
     },
     "execution_count": 24,
     "metadata": {},
     "output_type": "execute_result"
    }
   ],
   "source": [
    "arr_from_multi_dim_list.ndim"
   ]
  },
  {
   "cell_type": "markdown",
   "id": "0e3630d6",
   "metadata": {},
   "source": [
    "> Matome, kad nesudėtingai galima paversti Python objektus į NumPy array. Tai galioja visoms dimensijoms."
   ]
  }
 ],
 "metadata": {
  "kernelspec": {
   "display_name": "Python 3 (ipykernel)",
   "language": "python",
   "name": "python3"
  },
  "language_info": {
   "codemirror_mode": {
    "name": "ipython",
    "version": 3
   },
   "file_extension": ".py",
   "mimetype": "text/x-python",
   "name": "python",
   "nbconvert_exporter": "python",
   "pygments_lexer": "ipython3",
   "version": "3.9.12"
  }
 },
 "nbformat": 4,
 "nbformat_minor": 5
}
