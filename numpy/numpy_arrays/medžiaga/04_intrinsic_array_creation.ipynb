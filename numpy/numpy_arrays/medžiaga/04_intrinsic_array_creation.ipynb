{
 "cells": [
  {
   "cell_type": "markdown",
   "id": "cce28e49",
   "metadata": {},
   "source": [
    "# Vidinis NumPy array kūrimas"
   ]
  },
  {
   "cell_type": "code",
   "execution_count": 2,
   "id": "592519a3",
   "metadata": {},
   "outputs": [],
   "source": [
    "import numpy as np"
   ]
  },
  {
   "cell_type": "markdown",
   "id": "7b91343a",
   "metadata": {},
   "source": [
    "## NumPy Arange"
   ]
  },
  {
   "cell_type": "code",
   "execution_count": 2,
   "id": "76061506",
   "metadata": {},
   "outputs": [],
   "source": [
    "?np.arange"
   ]
  },
  {
   "cell_type": "markdown",
   "id": "a6a5af15",
   "metadata": {},
   "source": [
    "### stop"
   ]
  },
  {
   "cell_type": "code",
   "execution_count": 3,
   "id": "f65997fe",
   "metadata": {},
   "outputs": [
    {
     "data": {
      "text/plain": [
       "array([0, 1, 2, 3, 4, 5, 6, 7, 8, 9])"
      ]
     },
     "execution_count": 3,
     "metadata": {},
     "output_type": "execute_result"
    }
   ],
   "source": [
    "integers_array = np.arange(10)\n",
    "integers_array"
   ]
  },
  {
   "cell_type": "markdown",
   "id": "66114844",
   "metadata": {},
   "source": [
    "### start, stop"
   ]
  },
  {
   "cell_type": "code",
   "execution_count": 4,
   "id": "db450a65",
   "metadata": {},
   "outputs": [
    {
     "data": {
      "text/plain": [
       "array([100, 101, 102, 103, 104, 105, 106, 107, 108, 109, 110, 111, 112,\n",
       "       113, 114, 115, 116, 117, 118, 119, 120, 121, 122, 123, 124, 125,\n",
       "       126, 127, 128, 129])"
      ]
     },
     "execution_count": 4,
     "metadata": {},
     "output_type": "execute_result"
    }
   ],
   "source": [
    "integers_second_array = np.arange(100,130)\n",
    "integers_second_array"
   ]
  },
  {
   "cell_type": "markdown",
   "id": "8cd116ff",
   "metadata": {},
   "source": [
    "### start, stop, step"
   ]
  },
  {
   "cell_type": "code",
   "execution_count": 5,
   "id": "7dcbce4a",
   "metadata": {},
   "outputs": [
    {
     "data": {
      "text/plain": [
       "array([100, 102, 104, 106, 108, 110, 112, 114, 116, 118, 120, 122, 124,\n",
       "       126, 128, 130, 132, 134, 136, 138, 140, 142, 144, 146, 148])"
      ]
     },
     "execution_count": 5,
     "metadata": {},
     "output_type": "execute_result"
    }
   ],
   "source": [
    "integers_third_array = np.arange(100,150,2)\n",
    "integers_third_array"
   ]
  },
  {
   "cell_type": "markdown",
   "id": "1206f507",
   "metadata": {},
   "source": [
    "> Arange metodas naudojamas tik su integer tipo duomenimis"
   ]
  },
  {
   "cell_type": "markdown",
   "id": "52bf5db3",
   "metadata": {},
   "source": [
    "## NumPy Linspace"
   ]
  },
  {
   "cell_type": "code",
   "execution_count": 6,
   "id": "fd2f6bb2",
   "metadata": {},
   "outputs": [],
   "source": [
    "?np.linspace"
   ]
  },
  {
   "cell_type": "markdown",
   "id": "6791d62c",
   "metadata": {},
   "source": [
    "### start, stop"
   ]
  },
  {
   "cell_type": "code",
   "execution_count": 7,
   "id": "5683be5e",
   "metadata": {},
   "outputs": [
    {
     "data": {
      "text/plain": [
       "array([10.        , 10.20408163, 10.40816327, 10.6122449 , 10.81632653,\n",
       "       11.02040816, 11.2244898 , 11.42857143, 11.63265306, 11.83673469,\n",
       "       12.04081633, 12.24489796, 12.44897959, 12.65306122, 12.85714286,\n",
       "       13.06122449, 13.26530612, 13.46938776, 13.67346939, 13.87755102,\n",
       "       14.08163265, 14.28571429, 14.48979592, 14.69387755, 14.89795918,\n",
       "       15.10204082, 15.30612245, 15.51020408, 15.71428571, 15.91836735,\n",
       "       16.12244898, 16.32653061, 16.53061224, 16.73469388, 16.93877551,\n",
       "       17.14285714, 17.34693878, 17.55102041, 17.75510204, 17.95918367,\n",
       "       18.16326531, 18.36734694, 18.57142857, 18.7755102 , 18.97959184,\n",
       "       19.18367347, 19.3877551 , 19.59183673, 19.79591837, 20.        ])"
      ]
     },
     "execution_count": 7,
     "metadata": {},
     "output_type": "execute_result"
    }
   ],
   "source": [
    "first_floats_arr = np.linspace(10,20)\n",
    "first_floats_arr"
   ]
  },
  {
   "cell_type": "markdown",
   "id": "72ada236",
   "metadata": {},
   "source": [
    "> By default gavome 50 reikšmių, kurios yra nuo 10 iki 20"
   ]
  },
  {
   "cell_type": "markdown",
   "id": "db80e9d5",
   "metadata": {},
   "source": [
    "### start, stop, num"
   ]
  },
  {
   "cell_type": "code",
   "execution_count": 8,
   "id": "145c94f1",
   "metadata": {},
   "outputs": [
    {
     "data": {
      "text/plain": [
       "array([10. , 12.5, 15. , 17.5, 20. ])"
      ]
     },
     "execution_count": 8,
     "metadata": {},
     "output_type": "execute_result"
    }
   ],
   "source": [
    "second_floats_arr = np.linspace(10,20,5)\n",
    "second_floats_arr"
   ]
  },
  {
   "cell_type": "markdown",
   "id": "e6978ba2",
   "metadata": {},
   "source": [
    "> Matome, kad gavome 5 elemetus tarp kurių yra vienodi skirtumai"
   ]
  },
  {
   "cell_type": "markdown",
   "id": "1c2a7675",
   "metadata": {},
   "source": [
    "## Skirtumai tarp arange ir linspace"
   ]
  },
  {
   "cell_type": "markdown",
   "id": "8f3c76d9",
   "metadata": {},
   "source": [
    "* arange naudoja trečią argumentą (step) kaip skaičių, kiek norime peršokti.\n",
    "* linspace naudoja trečią argumentą (num) kaip skaičių kiek jų norime turėti."
   ]
  },
  {
   "cell_type": "markdown",
   "id": "a9d4a77e",
   "metadata": {},
   "source": [
    "## NumPy random.rand"
   ]
  },
  {
   "cell_type": "code",
   "execution_count": 9,
   "id": "be724581",
   "metadata": {},
   "outputs": [],
   "source": [
    "?np.random.rand"
   ]
  },
  {
   "cell_type": "markdown",
   "id": "cb98a07d",
   "metadata": {},
   "source": [
    "### One-dimensional array"
   ]
  },
  {
   "cell_type": "code",
   "execution_count": 10,
   "id": "89ef2316",
   "metadata": {},
   "outputs": [
    {
     "data": {
      "text/plain": [
       "array([0.60707426, 0.41755835, 0.75950764, 0.9921991 , 0.31569261,\n",
       "       0.82756296, 0.16552233, 0.8800543 , 0.5661847 , 0.5757213 ])"
      ]
     },
     "execution_count": 10,
     "metadata": {},
     "output_type": "execute_result"
    }
   ],
   "source": [
    "first_rand_arr = np.random.rand(10)\n",
    "first_rand_arr"
   ]
  },
  {
   "cell_type": "markdown",
   "id": "aa1bf1cf",
   "metadata": {},
   "source": [
    "> Gavome 10 random skaičių, kurių reikšmės yra nuo 0 iki 1"
   ]
  },
  {
   "cell_type": "markdown",
   "id": "03389f8f",
   "metadata": {},
   "source": [
    "### Two-dimensional array"
   ]
  },
  {
   "cell_type": "code",
   "execution_count": 11,
   "id": "76c096af",
   "metadata": {},
   "outputs": [
    {
     "data": {
      "text/plain": [
       "array([[0.52662931, 0.25063931, 0.90835485, 0.6265006 ],\n",
       "       [0.1958089 , 0.49417078, 0.84929992, 0.07939484],\n",
       "       [0.28353548, 0.41039384, 0.93932554, 0.39546364],\n",
       "       [0.93538268, 0.78563402, 0.34805082, 0.90333785]])"
      ]
     },
     "execution_count": 11,
     "metadata": {},
     "output_type": "execute_result"
    }
   ],
   "source": [
    "second_rand_arr = np.random.rand(4,4)\n",
    "second_rand_arr"
   ]
  },
  {
   "cell_type": "markdown",
   "id": "82a040f0",
   "metadata": {},
   "source": [
    "> Gavome 4 listus po 4 random reikšmes"
   ]
  },
  {
   "cell_type": "markdown",
   "id": "8f979d9c",
   "metadata": {},
   "source": [
    "## NumPy random.randint"
   ]
  },
  {
   "cell_type": "code",
   "execution_count": 3,
   "id": "43dca3b1",
   "metadata": {},
   "outputs": [],
   "source": [
    "?np.random.randint"
   ]
  },
  {
   "cell_type": "markdown",
   "id": "baa1bebe",
   "metadata": {},
   "source": [
    "### low, high, size"
   ]
  },
  {
   "cell_type": "code",
   "execution_count": 15,
   "id": "dffeb098",
   "metadata": {},
   "outputs": [
    {
     "data": {
      "text/plain": [
       "array([12, 49, 11, 61, 49, 60, 29, 45,  7, 23, 62, 49, 84, 70, 11, 50, 60,\n",
       "       66, 13, 42])"
      ]
     },
     "execution_count": 15,
     "metadata": {},
     "output_type": "execute_result"
    }
   ],
   "source": [
    "third_rand_arr = np.random.randint(0,100,20)\n",
    "third_rand_arr"
   ]
  },
  {
   "cell_type": "markdown",
   "id": "4ea9d3af",
   "metadata": {},
   "source": [
    "> Gavome 20 random skaičių nuo 0 iki 100"
   ]
  },
  {
   "cell_type": "code",
   "execution_count": 16,
   "id": "5833accb",
   "metadata": {},
   "outputs": [
    {
     "data": {
      "text/plain": [
       "array([12, 49, 11, 61, 49, 60, 29, 45,  7, 23, 62, 49, 84, 70, 11, 50, 60,\n",
       "       66, 13, 42])"
      ]
     },
     "execution_count": 16,
     "metadata": {},
     "output_type": "execute_result"
    }
   ],
   "source": [
    "third_rand_arr"
   ]
  },
  {
   "cell_type": "code",
   "execution_count": null,
   "id": "ed9cd82a",
   "metadata": {},
   "outputs": [],
   "source": []
  }
 ],
 "metadata": {
  "kernelspec": {
   "display_name": "Python 3 (ipykernel)",
   "language": "python",
   "name": "python3"
  },
  "language_info": {
   "codemirror_mode": {
    "name": "ipython",
    "version": 3
   },
   "file_extension": ".py",
   "mimetype": "text/x-python",
   "name": "python",
   "nbconvert_exporter": "python",
   "pygments_lexer": "ipython3",
   "version": "3.9.12"
  }
 },
 "nbformat": 4,
 "nbformat_minor": 5
}
