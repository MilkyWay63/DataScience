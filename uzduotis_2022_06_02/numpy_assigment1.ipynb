{
 "cells": [
  {
   "cell_type": "code",
   "execution_count": 2,
   "id": "1cc66061",
   "metadata": {},
   "outputs": [],
   "source": [
    "import numpy as np"
   ]
  },
  {
   "cell_type": "markdown",
   "id": "d064ca9b",
   "metadata": {},
   "source": [
    "1.\tSukurkite vektorių su skaičiais nuo 1 iki 10"
   ]
  },
  {
   "cell_type": "code",
   "execution_count": 4,
   "id": "3934a769",
   "metadata": {},
   "outputs": [
    {
     "data": {
      "text/plain": [
       "array([ 1,  2,  3,  4,  5,  6,  7,  8,  9, 10])"
      ]
     },
     "execution_count": 4,
     "metadata": {},
     "output_type": "execute_result"
    }
   ],
   "source": [
    "arr1=np.arange(1,11)\n",
    "arr1"
   ]
  },
  {
   "cell_type": "markdown",
   "id": "11d8522a",
   "metadata": {},
   "source": [
    "2.\tSukurkite vektorių iš 10 nulių"
   ]
  },
  {
   "cell_type": "code",
   "execution_count": 5,
   "id": "d833202c",
   "metadata": {},
   "outputs": [
    {
     "data": {
      "text/plain": [
       "array([0., 0., 0., 0., 0., 0., 0., 0., 0., 0.])"
      ]
     },
     "execution_count": 5,
     "metadata": {},
     "output_type": "execute_result"
    }
   ],
   "source": [
    "arr2=np.zeros(10)\n",
    "arr2"
   ]
  },
  {
   "cell_type": "markdown",
   "id": "b9fe938b",
   "metadata": {},
   "source": [
    "3.\tSukurkite vektorių iš 10 vienetų"
   ]
  },
  {
   "cell_type": "code",
   "execution_count": 6,
   "id": "3ecdbb72",
   "metadata": {},
   "outputs": [
    {
     "data": {
      "text/plain": [
       "array([1., 1., 1., 1., 1., 1., 1., 1., 1., 1.])"
      ]
     },
     "execution_count": 6,
     "metadata": {},
     "output_type": "execute_result"
    }
   ],
   "source": [
    "arr3=np.ones(10)\n",
    "arr3"
   ]
  },
  {
   "cell_type": "markdown",
   "id": "8a7b4693",
   "metadata": {},
   "source": [
    "4.\tSukurkite vektorių iš 10 ketvertų"
   ]
  },
  {
   "cell_type": "code",
   "execution_count": 7,
   "id": "85bcf643",
   "metadata": {},
   "outputs": [
    {
     "data": {
      "text/plain": [
       "array([4, 4, 4, 4, 4, 4, 4, 4, 4, 4])"
      ]
     },
     "execution_count": 7,
     "metadata": {},
     "output_type": "execute_result"
    }
   ],
   "source": [
    "arr4 = np.full(10,4)\n",
    "arr4"
   ]
  },
  {
   "cell_type": "markdown",
   "id": "09a2b4f2",
   "metadata": {},
   "source": [
    "5.\tSukurkite vektorių iš lyginių skaičių nuo 0 iki 100"
   ]
  },
  {
   "cell_type": "code",
   "execution_count": 42,
   "id": "888fb749",
   "metadata": {},
   "outputs": [
    {
     "data": {
      "text/plain": [
       "array([  2,   4,   6,   8,  10,  12,  14,  16,  18,  20,  22,  24,  26,\n",
       "        28,  30,  32,  34,  36,  38,  40,  42,  44,  46,  48,  50,  52,\n",
       "        54,  56,  58,  60,  62,  64,  66,  68,  70,  72,  74,  76,  78,\n",
       "        80,  82,  84,  86,  88,  90,  92,  94,  96,  98, 100])"
      ]
     },
     "execution_count": 42,
     "metadata": {},
     "output_type": "execute_result"
    }
   ],
   "source": [
    "arr5 = np.arange(2,101,2)\n",
    "arr5"
   ]
  },
  {
   "cell_type": "markdown",
   "id": "f9dfd99a",
   "metadata": {},
   "source": [
    "6.\tSukurkite matricą iš 25 narių, pradedant 1, baigiant 25. Priskirkite ją kintamajam."
   ]
  },
  {
   "cell_type": "code",
   "execution_count": 40,
   "id": "fc3682d3",
   "metadata": {},
   "outputs": [
    {
     "data": {
      "text/plain": [
       "[array([ 1,  2,  3,  4,  5,  6,  7,  8,  9, 10, 11, 12, 13]),\n",
       " array([14, 15, 16, 17, 18, 19, 20, 21, 22, 23, 24, 25])]"
      ]
     },
     "execution_count": 40,
     "metadata": {},
     "output_type": "execute_result"
    }
   ],
   "source": [
    "arr = np.arange(1,26)\n",
    "arr6=np.array_split(arr5, 2)\n",
    "arr6\n"
   ]
  },
  {
   "cell_type": "code",
   "execution_count": 18,
   "id": "700cd73f",
   "metadata": {},
   "outputs": [
    {
     "name": "stderr",
     "output_type": "stream",
     "text": [
      "C:\\Users\\emirug\\AppData\\Local\\Temp\\ipykernel_21560\\2370758599.py:1: VisibleDeprecationWarning: Creating an ndarray from ragged nested sequences (which is a list-or-tuple of lists-or-tuples-or ndarrays with different lengths or shapes) is deprecated. If you meant to do this, you must specify 'dtype=object' when creating the ndarray.\n",
      "  arr7=np.array([[ 1,  2,  3,  4,  5,  6,  7,  8,  9, 10, 11, 12, 13], [14, 15, 16, 17, 18, 19, 20, 21, 22, 23, 24, 25]])\n"
     ]
    },
    {
     "data": {
      "text/plain": [
       "array([list([1, 2, 3, 4, 5, 6, 7, 8, 9, 10, 11, 12, 13]),\n",
       "       list([14, 15, 16, 17, 18, 19, 20, 21, 22, 23, 24, 25])],\n",
       "      dtype=object)"
      ]
     },
     "execution_count": 18,
     "metadata": {},
     "output_type": "execute_result"
    }
   ],
   "source": [
    "arr7=np.array([[ 1,  2,  3,  4,  5,  6,  7,  8,  9, 10, 11, 12, 13], [14, 15, 16, 17, 18, 19, 20, 21, 22, 23, 24, 25]])\n",
    "arr7"
   ]
  },
  {
   "cell_type": "markdown",
   "id": "ddbb79cf",
   "metadata": {},
   "source": [
    "7.\tIš matricos ištraukite skaičių 12"
   ]
  },
  {
   "cell_type": "code",
   "execution_count": 21,
   "id": "76f77735",
   "metadata": {},
   "outputs": [
    {
     "data": {
      "text/plain": [
       "12"
      ]
     },
     "execution_count": 21,
     "metadata": {},
     "output_type": "execute_result"
    }
   ],
   "source": [
    "arr7[0][11]"
   ]
  },
  {
   "cell_type": "markdown",
   "id": "d8af50b0",
   "metadata": {},
   "source": [
    "8.\tIš matricos ištraukite paskutinę eilutę."
   ]
  },
  {
   "cell_type": "code",
   "execution_count": 22,
   "id": "5c06bd72",
   "metadata": {},
   "outputs": [
    {
     "data": {
      "text/plain": [
       "[14, 15, 16, 17, 18, 19, 20, 21, 22, 23, 24, 25]"
      ]
     },
     "execution_count": 22,
     "metadata": {},
     "output_type": "execute_result"
    }
   ],
   "source": [
    "arr7[1]"
   ]
  },
  {
   "cell_type": "markdown",
   "id": "0616bbb0",
   "metadata": {},
   "source": [
    "9.\tIš matricos ištraukite submatricą:\n",
    "1, 2, 3\\ 6, 7, 8\\ 11,12,13\n"
   ]
  },
  {
   "cell_type": "code",
   "execution_count": 24,
   "id": "3917e450",
   "metadata": {},
   "outputs": [
    {
     "data": {
      "text/plain": [
       "[6, 7, 8]"
      ]
     },
     "execution_count": 24,
     "metadata": {},
     "output_type": "execute_result"
    }
   ],
   "source": [
    "arr7[0][5:8]"
   ]
  },
  {
   "cell_type": "markdown",
   "id": "55da601d",
   "metadata": {},
   "source": [
    "10.\tIš matricos ištraukite submatricą:\n",
    "7, 8, 9, 10\\ 12, 13, 14, 15\\ 17, 18, 19, 20"
   ]
  },
  {
   "cell_type": "code",
   "execution_count": 30,
   "id": "58a604f1",
   "metadata": {},
   "outputs": [
    {
     "data": {
      "text/plain": [
       "array([12, 13, 14, 15])"
      ]
     },
     "execution_count": 30,
     "metadata": {},
     "output_type": "execute_result"
    }
   ],
   "source": [
    "con_arr = np.concatenate((arr7[0][11:13], arr7[1][0:2]))\n",
    "con_arr"
   ]
  },
  {
   "cell_type": "markdown",
   "id": "1e89e2fa",
   "metadata": {},
   "source": [
    "11.\tIš matricos ištraukite submatricą:\n",
    "16, 17, 18\n",
    "21, 22, 23"
   ]
  },
  {
   "cell_type": "code",
   "execution_count": 33,
   "id": "c6440b77",
   "metadata": {},
   "outputs": [
    {
     "data": {
      "text/plain": [
       "[16, 17, 18, 19, 20, 21, 22, 23, 24]"
      ]
     },
     "execution_count": 33,
     "metadata": {},
     "output_type": "execute_result"
    }
   ],
   "source": [
    "arr7[1][2:11]"
   ]
  },
  {
   "cell_type": "markdown",
   "id": "7f868729",
   "metadata": {},
   "source": [
    "12.\tSukurkite vektorių iš 20 atsitiktinių reikšmių nuo 0 iki 1. Priskirkite kintamajam."
   ]
  },
  {
   "cell_type": "code",
   "execution_count": 38,
   "id": "91562605",
   "metadata": {},
   "outputs": [
    {
     "data": {
      "text/plain": [
       "array([0, 0, 1, 1, 1, 0, 0, 1, 0, 0, 1, 0, 0, 1, 0, 0, 1, 1, 0, 0])"
      ]
     },
     "execution_count": 38,
     "metadata": {},
     "output_type": "execute_result"
    }
   ],
   "source": [
    "arr8 = np.random.randint(0,2,20)\n",
    "arr8"
   ]
  },
  {
   "cell_type": "markdown",
   "id": "7bcabe23",
   "metadata": {},
   "source": [
    "13.\tSuraskite didžiausią reikšmę masyve ir jos indeksą. (naudoti max() ir .argmax())"
   ]
  },
  {
   "cell_type": "code",
   "execution_count": 45,
   "id": "fc8c7021",
   "metadata": {},
   "outputs": [
    {
     "name": "stdout",
     "output_type": "stream",
     "text": [
      "Reikšmė 100 Indeksas 49\n"
     ]
    }
   ],
   "source": [
    "m=np.max(arr5)\n",
    "m2=arr5.argmax()\n",
    "print('Max reikšmė', m, 'Indeksas', m2)"
   ]
  },
  {
   "cell_type": "markdown",
   "id": "3a8d86dc",
   "metadata": {},
   "source": [
    "14.\tSuraskite mažiausią reikšmę ir jos indeksą. (naudoti min() ir .argmin())"
   ]
  },
  {
   "cell_type": "code",
   "execution_count": 46,
   "id": "1cd47945",
   "metadata": {},
   "outputs": [
    {
     "name": "stdout",
     "output_type": "stream",
     "text": [
      "Min reikšmė 2 Indeksas 0\n"
     ]
    }
   ],
   "source": [
    "mn=np.min(arr5)\n",
    "mn2=arr5.argmin()\n",
    "print('Min reikšmė', mn, 'Indeksas', mn2)"
   ]
  },
  {
   "cell_type": "markdown",
   "id": "f07c28cd",
   "metadata": {},
   "source": [
    "15.\tAtspausdinkite šios matricos duomenų tipą"
   ]
  },
  {
   "cell_type": "code",
   "execution_count": 59,
   "id": "b30744a9",
   "metadata": {},
   "outputs": [
    {
     "data": {
      "text/plain": [
       "dtype('O')"
      ]
     },
     "execution_count": 59,
     "metadata": {},
     "output_type": "execute_result"
    }
   ],
   "source": [
    "arr7.dtype"
   ]
  },
  {
   "cell_type": "code",
   "execution_count": null,
   "id": "97c0abfd",
   "metadata": {},
   "outputs": [],
   "source": []
  }
 ],
 "metadata": {
  "kernelspec": {
   "display_name": "Python 3 (ipykernel)",
   "language": "python",
   "name": "python3"
  },
  "language_info": {
   "codemirror_mode": {
    "name": "ipython",
    "version": 3
   },
   "file_extension": ".py",
   "mimetype": "text/x-python",
   "name": "python",
   "nbconvert_exporter": "python",
   "pygments_lexer": "ipython3",
   "version": "3.9.7"
  }
 },
 "nbformat": 4,
 "nbformat_minor": 5
}
